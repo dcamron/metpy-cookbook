{
 "cells": [
  {
   "cell_type": "markdown",
   "metadata": {
    "cell_marker": "\"\"\"",
    "lines_to_next_cell": 0
   },
   "source": [
    "Calculating Wind Shear\n",
    "======================\n",
    "\n",
    "This example plots calculates the 850-500 hPa Bulk Wind Shear\n",
    "\n",
    "Plotting over a regional domain, accessing the Best Collection of GFS from the\n",
    "Unidata Thredds server, plots MSLP (hPa), 850-hPa Wind Vector (m/s), 500-hPa\n",
    "Wind Vector (m/s), and the Wind Shear between the two layers (m/s)"
   ]
  },
  {
   "cell_type": "markdown",
   "metadata": {
    "cell_marker": "#####################################",
    "lines_to_next_cell": 0
   },
   "source": [
    "## Import necessary packages"
   ]
  },
  {
   "cell_type": "code",
   "execution_count": null,
   "metadata": {},
   "outputs": [],
   "source": [
    "from datetime import datetime, UTC\n",
    "\n",
    "import cartopy.crs as ccrs\n",
    "import cartopy.feature as cfeature\n",
    "import matplotlib.pyplot as plt\n",
    "from metpy.units import units\n",
    "import numpy as np\n",
    "import scipy.ndimage as ndimage\n",
    "from siphon.catalog import TDSCatalog\n",
    "from xarray.backends import NetCDF4DataStore\n",
    "import xarray as xr"
   ]
  },
  {
   "cell_type": "markdown",
   "metadata": {
    "cell_marker": "#####################################"
   },
   "source": [
    "## Obtain data"
   ]
  },
  {
   "cell_type": "code",
   "execution_count": null,
   "metadata": {},
   "outputs": [],
   "source": [
    "# Construct a TDSCatalog instance pointing to the gfs dataset\n",
    "best_gfs = TDSCatalog('http://thredds.ucar.edu/thredds/catalog/grib/'\n",
    "                      'NCEP/GFS/Global_0p5deg/catalog.xml')\n",
    "\n",
    "# Interface with the Best GFS Half Degree Forecast Time Series dataset\n",
    "# via NCSS directly\n",
    "ncss = best_gfs.datasets['Best GFS Half Degree Forecast Time Series'].subset()"
   ]
  },
  {
   "cell_type": "markdown",
   "metadata": {
    "cell_marker": "#####################################"
   },
   "source": [
    "## First Query for MSLP"
   ]
  },
  {
   "cell_type": "code",
   "execution_count": null,
   "metadata": {},
   "outputs": [],
   "source": [
    "# Create our NCSS query with desired specifications\n",
    "query = ncss.query()\n",
    "query.lonlat_box(north=50, south=30, east=-80, west=-115)\n",
    "query.time(datetime.now(UTC))\n",
    "query.accept('netcdf4')\n",
    "query.variables('MSLP_Eta_model_reduction_msl')\n",
    "\n",
    "# Obtain the data we've queried for as a netcdf4-python dataset\n",
    "data = ncss.get_data(query)\n",
    "\n",
    "# Make into an xarray Dataset object\n",
    "ds = xr.open_dataset(NetCDF4DataStore(data)).metpy.parse_cf()\n",
    "\n",
    "# Pull out the variables you want to use\n",
    "mslp_var = ds.MSLP_Eta_model_reduction_msl\n",
    "time_var = ds.MSLP_Eta_model_reduction_msl.metpy.time\n",
    "lat_var = ds.latitude\n",
    "lon_var = ds.longitude"
   ]
  },
  {
   "cell_type": "markdown",
   "metadata": {
    "cell_marker": "#####################################"
   },
   "source": [
    "## Second Query for 850-hPa data"
   ]
  },
  {
   "cell_type": "code",
   "execution_count": null,
   "metadata": {},
   "outputs": [],
   "source": [
    "# Request data for 850-hPa winds\n",
    "# First clear the query's variables from previous query for MSLP\n",
    "query.var = set()\n",
    "query.vertical_level(85000)\n",
    "query.variables('u-component_of_wind_isobaric',\n",
    "                'v-component_of_wind_isobaric')\n",
    "\n",
    "data = ncss.get_data(query)\n",
    "\n",
    "# Make into an xarray Dataset object\n",
    "ds_wind = xr.open_dataset(NetCDF4DataStore(data)).metpy.parse_cf()\n",
    "\n",
    "u_wind_var850 = ds_wind['u-component_of_wind_isobaric']\n",
    "v_wind_var850 = ds_wind['v-component_of_wind_isobaric']"
   ]
  },
  {
   "cell_type": "markdown",
   "metadata": {
    "cell_marker": "#####################################"
   },
   "source": [
    "Third Query for 500-hPa data"
   ]
  },
  {
   "cell_type": "code",
   "execution_count": null,
   "metadata": {},
   "outputs": [],
   "source": [
    "# Request data for 500-hPa winds\n",
    "# First clear the query's variables from previous query for 850-hPa data\n",
    "query.var = set()\n",
    "query.vertical_level(50000)\n",
    "query.variables('u-component_of_wind_isobaric',\n",
    "                'v-component_of_wind_isobaric')\n",
    "\n",
    "data = ncss.get_data(query)\n",
    "\n",
    "# Make into an xarray Dataset object\n",
    "ds_wind = xr.open_dataset(NetCDF4DataStore(data)).metpy.parse_cf()\n",
    "\n",
    "u_wind_var500 = ds_wind['u-component_of_wind_isobaric']\n",
    "v_wind_var500 = ds_wind['v-component_of_wind_isobaric']"
   ]
  },
  {
   "cell_type": "markdown",
   "metadata": {
    "cell_marker": "#####################################"
   },
   "source": [
    "## Data Manipulation"
   ]
  },
  {
   "cell_type": "code",
   "execution_count": null,
   "metadata": {},
   "outputs": [],
   "source": [
    "# Get actual data values and remove any size 1 dimensions\n",
    "lat = lat_var.values.squeeze()\n",
    "lon = lon_var.values.squeeze()\n",
    "mslp = mslp_var.metpy.convert_units('hPa').squeeze()\n",
    "u_wind850 = u_wind_var850.squeeze()\n",
    "v_wind850 = v_wind_var850.squeeze()\n",
    "u_wind500 = u_wind_var500.squeeze()\n",
    "v_wind500 = v_wind_var500.squeeze()\n",
    "\n",
    "# Convert number of hours since the reference time into an actual date\n",
    "time = time_var.values.astype('datetime64[ms]').astype('O').squeeze()\n",
    "\n",
    "# Combine 1D latitude and longitudes into a 2D grid of locations\n",
    "lon_2d, lat_2d = np.meshgrid(lon, lat)\n",
    "\n",
    "# Smooth mslp data\n",
    "mslp = ndimage.gaussian_filter(mslp, sigma=3, order=0)"
   ]
  },
  {
   "cell_type": "markdown",
   "metadata": {
    "cell_marker": "#####################################"
   },
   "source": [
    "Begin making figure"
   ]
  },
  {
   "cell_type": "code",
   "execution_count": null,
   "metadata": {},
   "outputs": [],
   "source": [
    "# Create new figure\n",
    "fig = plt.figure(figsize=(15, 12), facecolor='black')\n",
    "\n",
    "# Add the map and set the extent\n",
    "ax = plt.axes(projection=ccrs.PlateCarree())\n",
    "ax.set_extent([-108., -91., 33., 45.])\n",
    "ax.patch.set_fill(False)\n",
    "\n",
    "# Add state boundaries to plot\n",
    "ax.add_feature(cfeature.STATES, edgecolor='white', linewidth=2)\n",
    "\n",
    "# Contour the MSLP\n",
    "c = ax.contour(lon_2d, lat_2d, mslp, colors='lime', linewidths=6)\n",
    "ax.clabel(c, fontsize=12, inline=1, inline_spacing=4, fmt='%i')\n",
    "\n",
    "wslice = slice(1, None, 4)\n",
    "# Plot 850-hPa wind vectors\n",
    "vectors850 = ax.quiver(lon_2d[wslice, wslice], lat_2d[wslice, wslice],\n",
    "                       u_wind850[wslice, wslice], v_wind850[wslice, wslice],\n",
    "                       headlength=4, headwidth=3, angles='xy',\n",
    "                       scale_units='xy', scale=12, color='gold',\n",
    "                       label='850mb wind')\n",
    "\n",
    "# Plot 500-hPa wind vectors\n",
    "vectors500 = ax.quiver(lon_2d[wslice, wslice], lat_2d[wslice, wslice],\n",
    "                       u_wind500[wslice, wslice], v_wind500[wslice, wslice],\n",
    "                       headlength=4, headwidth=3, angles='xy',\n",
    "                       scale_units='xy', scale=12, color='cornflowerblue',\n",
    "                       label='500mb wind')\n",
    "\n",
    "# Plot 500-850 shear\n",
    "shear = ax.quiver(lon_2d[wslice, wslice], lat_2d[wslice, wslice],\n",
    "                  u_wind500[wslice, wslice] - u_wind850[wslice, wslice],\n",
    "                  v_wind500[wslice, wslice] - v_wind850[wslice, wslice],\n",
    "                  headlength=4, headwidth=3, angles='xy', scale_units='xy',\n",
    "                  scale=12, color='deeppink', label='500-850mb shear')\n",
    "\n",
    "# Add a legend\n",
    "ax.legend(('850mb wind', '500mb wind', '500-850mb shear'), loc=4)\n",
    "\n",
    "# Add a title to the plot\n",
    "plt.title('MSLP, 850mb Wind, 500mb Wind, and 500-850mb Vertical Wind Shear \\n'\n",
    "          f' for {time:%d %B %Y %H:%MZ}', color='white', size=14);"
   ]
  }
 ],
 "metadata": {
  "jupytext": {
   "cell_metadata_filter": "-all",
   "main_language": "python",
   "notebook_metadata_filter": "-all"
  },
  "kernelspec": {
   "display_name": "Python 3 (ipykernel)",
   "language": "python",
   "name": "python3"
  },
  "language_info": {
   "codemirror_mode": {
    "name": "ipython",
    "version": 3
   },
   "file_extension": ".py",
   "mimetype": "text/x-python",
   "name": "python",
   "nbconvert_exporter": "python",
   "pygments_lexer": "ipython3",
   "version": "3.13.5"
  }
 },
 "nbformat": 4,
 "nbformat_minor": 4
}
