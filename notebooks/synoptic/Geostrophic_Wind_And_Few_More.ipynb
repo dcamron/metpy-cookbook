{
 "cells": [
  {
   "cell_type": "markdown",
   "id": "eda9d006",
   "metadata": {
    "cell_marker": "\"\"\"",
    "lines_to_next_cell": 0
   },
   "source": [
    "Geostrophic Wind and Other Calcuations\n",
    "======================================\n",
    "\n",
    "Demonstrate a variety of calculations in MetPy."
   ]
  },
  {
   "cell_type": "code",
   "execution_count": null,
   "id": "75321594-8039-4f1a-85f3-b292d69be83a",
   "metadata": {},
   "outputs": [],
   "source": [
    "import metpy.calc as mpcalc\n",
    "import xarray as xr\n",
    "import numpy as np\n",
    "from metpy.calc import geostrophic_wind\n",
    "from metpy.calc import q_vector\n",
    "from metpy.units import units\n",
    "import matplotlib.pyplot as plt\n",
    "import cartopy.crs as ccrs\n",
    "import cartopy.feature as cfeature\n",
    "from scipy.ndimage.filters import gaussian_filter"
   ]
  },
  {
   "cell_type": "code",
   "execution_count": null,
   "id": "6a902c37-5034-4908-8fc2-501727d1357c",
   "metadata": {},
   "outputs": [],
   "source": [
    "## opening NetCDF file using xarray \n",
    "\n",
    "ds = xr.open_dataset(\"../convective/NETCDF_FILE.nc\", decode_times=True)"
   ]
  },
  {
   "cell_type": "code",
   "execution_count": null,
   "id": "6ed072ca-b162-4d57-a223-de1ee39f3f6d",
   "metadata": {},
   "outputs": [],
   "source": [
    "ds"
   ]
  },
  {
   "cell_type": "code",
   "execution_count": null,
   "id": "358c2770-ce37-4742-94e1-1da433d35e36",
   "metadata": {},
   "outputs": [],
   "source": [
    "#### making a function to slice the xarray dataset according to our need.\n",
    "def slicer (data,lat1, lat2, lon1, lon2, time1,time2) :\n",
    "    sliced_data = data.sel(lat =slice(lat1, lat2), lon = slice(lon1, lon2),time = slice(time1, time2))\n",
    "    return sliced_data"
   ]
  },
  {
   "cell_type": "code",
   "execution_count": null,
   "id": "30bf5f26-a094-4f58-a88a-0b1760cd2713",
   "metadata": {},
   "outputs": [],
   "source": [
    "#slicing the data for CONUS only\n",
    "\n",
    "new_data = slicer(ds,23.5,50.5,-125.5,-66.5, ds.time[0], ds.time[0])"
   ]
  },
  {
   "cell_type": "code",
   "execution_count": null,
   "id": "6afb5649-5d46-4546-98b0-d06627ef19bb",
   "metadata": {},
   "outputs": [],
   "source": [
    "new_data"
   ]
  },
  {
   "cell_type": "code",
   "execution_count": null,
   "id": "8578a22a-b045-4421-be7a-f0ed9bf22411",
   "metadata": {},
   "outputs": [],
   "source": [
    "###extracting temperature, pressure, and geopotential from the dataset\n",
    "gph = new_data.H\n",
    "p =new_data.lev\n",
    "T = new_data.T"
   ]
  },
  {
   "cell_type": "code",
   "execution_count": null,
   "id": "c20a158f-e6b0-41be-8187-f89aa9231f24",
   "metadata": {},
   "outputs": [],
   "source": [
    "gph"
   ]
  },
  {
   "cell_type": "code",
   "execution_count": null,
   "id": "96df4b51-1cd3-43a8-8e85-0090023cce2b",
   "metadata": {},
   "outputs": [],
   "source": [
    "U,V = geostrophic_wind(gph)"
   ]
  },
  {
   "cell_type": "code",
   "execution_count": null,
   "id": "2ca7f254-6f68-443f-a4e8-b1c31d7180d2",
   "metadata": {},
   "outputs": [],
   "source": [
    "np.shape(U)"
   ]
  },
  {
   "cell_type": "code",
   "execution_count": null,
   "id": "2f296eb3-dca0-4680-9d82-01a2b61184a2",
   "metadata": {},
   "outputs": [],
   "source": []
  },
  {
   "cell_type": "code",
   "execution_count": null,
   "id": "b3dde0b5-2394-4cf7-a090-77d81a2dccbc",
   "metadata": {},
   "outputs": [],
   "source": [
    "dataproj = ccrs. PlateCarree ()\n",
    "# # Plot projection\n",
    "# # The look you want for the view.\n",
    "plotproj = ccrs. PlateCarree ()\n",
    "fig=plt.figure(1, figsize=(15.,12.))\n",
    "\n",
    "ax=plt.subplot(111,projection=plotproj)\n",
    "\n",
    "ax.add_feature(cfeature.COASTLINE, linewidth=0.5)\n",
    "ax.add_feature(cfeature.STATES, linewidth=0.5)\n",
    "plt.title(\"Geostrophic Wind Calculated Using Metpy\",size = 30)\n",
    "plt.quiver (new_data.lon, new_data.lat, U[0,12,:,:],V[0,12,:,:],minlength = 0.5,units='width')\n",
    "# plt.colorbar (orientation = \"horizontal\", pad=0.01).ax.tick_params(labelsize=20)\n",
    "plt. show ()"
   ]
  },
  {
   "cell_type": "code",
   "execution_count": null,
   "id": "1f8df97c-b97e-498f-985f-92aa2b4897d9",
   "metadata": {},
   "outputs": [],
   "source": [
    "qx, qy = q_vector(U,V,T,p)"
   ]
  },
  {
   "cell_type": "code",
   "execution_count": null,
   "id": "2b9d73bb-04c8-4de6-8967-c32e9efee22e",
   "metadata": {},
   "outputs": [],
   "source": []
  },
  {
   "cell_type": "code",
   "execution_count": null,
   "id": "0e1331cc-8244-4b8d-a882-aa2ca89bf888",
   "metadata": {},
   "outputs": [],
   "source": [
    "dataproj = ccrs. PlateCarree ()\n",
    "# # Plot projection\n",
    "# # The look you want for the view.\n",
    "plotproj = ccrs. PlateCarree ()\n",
    "fig=plt.figure(1, figsize=(15.,12.))\n",
    "\n",
    "ax=plt.subplot(111,projection=plotproj)\n",
    "\n",
    "ax.add_feature(cfeature.COASTLINE, linewidth=0.5)\n",
    "ax.add_feature(cfeature.STATES, linewidth=0.5)\n",
    "plt.title(\"Q-vector Calculated Using Metpy\",size = 30)\n",
    "\n",
    "plt.contour(new_data.lon, new_data.lat,gaussian_filter(gph[0,12,:,:],1), colors = \"black\")\n",
    "# plt.contourf(new_data.lon, new_data.lat, new_data.OMEGA[0,12,:,:],levels =np.arange(-2,2,0.2),cmap = \"RdBu\", transform=dataproj,extend = \"both\" )\n",
    "plt.colorbar (orientation = \"horizontal\", pad=0.01).ax.tick_params(labelsize=20)\n",
    "# plt.colorbar (orientation = \"horizontal\", pad=0.01).ax.tick_params(labelsize=20)\n",
    "plt.quiver (new_data.lon, new_data.lat, qx[0,12,:,:],gaussian_filter(qy[0,12,:,:],0.7), color='blue',pivot='mid', \n",
    "          scale=1e-11, scale_units='inches',\n",
    "          transform=dataproj)\n",
    "\n",
    "# gaussian_filter(data, sigma)\n",
    "plt. show ()"
   ]
  },
  {
   "cell_type": "code",
   "execution_count": null,
   "id": "24c290ac-9aba-4f12-a835-242581fb90c7",
   "metadata": {},
   "outputs": [],
   "source": []
  }
 ],
 "metadata": {
  "kernelspec": {
   "display_name": "Python 3 (ipykernel)",
   "language": "python",
   "name": "python3"
  },
  "language_info": {
   "codemirror_mode": {
    "name": "ipython",
    "version": 3
   },
   "file_extension": ".py",
   "mimetype": "text/x-python",
   "name": "python",
   "nbconvert_exporter": "python",
   "pygments_lexer": "ipython3",
   "version": "3.11.9"
  }
 },
 "nbformat": 4,
 "nbformat_minor": 5
}
