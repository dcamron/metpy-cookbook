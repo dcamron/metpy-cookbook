{
 "cells": [
  {
   "cell_type": "markdown",
   "metadata": {},
   "source": [
    "\n",
    "# Sounding as Dataset Example\n",
    "\n",
    "Use MetPy to make a Skew-T LogP plot from an xarray Dataset after computing LCL parcel profile.\n"
   ]
  },
  {
   "cell_type": "markdown",
   "metadata": {},
   "source": [
    "## Imports"
   ]
  },
  {
   "cell_type": "code",
   "execution_count": null,
   "metadata": {
    "jupyter": {
     "outputs_hidden": false
    }
   },
   "outputs": [],
   "source": [
    "import matplotlib.pyplot as plt\n",
    "import numpy as np\n",
    "import pandas as pd\n",
    "\n",
    "import metpy.calc as mpcalc\n",
    "from metpy.cbook import get_test_data\n",
    "from metpy.plots import add_metpy_logo, SkewT\n",
    "from metpy.units import units"
   ]
  },
  {
   "cell_type": "markdown",
   "metadata": {},
   "source": [
    "## Obtain Data and Format"
   ]
  },
  {
   "cell_type": "markdown",
   "metadata": {},
   "source": [
    "Upper air data can be obtained using the siphon package, but for this example we will use some of MetPy's sample data.\n",
    "`as_file_obj=False), skiprows=5, usecols=[0, 1, 2, 3, 6, 7], names=col_names)` is necessary due to the formatting of the MetPy sample data. This formatting is not needed when using upper air data obtained via Siphon. Obtaining data with Siphon will be covered in a later notebook. "
   ]
  },
  {
   "cell_type": "code",
   "execution_count": null,
   "metadata": {
    "jupyter": {
     "outputs_hidden": false
    }
   },
   "outputs": [],
   "source": [
    "col_names = ['pressure', 'height', 'temperature', 'dewpoint', 'direction', 'speed']\n",
    "\n",
    "sounding_data = pd.read_fwf(get_test_data('20110522_OUN_12Z.txt', as_file_obj=False),\n",
    "                 skiprows=7, usecols=[0, 1, 2, 3, 6, 7], names=col_names)\n",
    "\n",
    "# Drop any rows with all not a number (NaN) values for temperature, dewpoint, and winds\n",
    "sounding_data = sounding_data.dropna(subset=('temperature', 'dewpoint', 'direction', 'speed'),\n",
    "               how='all').reset_index(drop=True)"
   ]
  },
  {
   "cell_type": "markdown",
   "metadata": {},
   "source": [
    "## Assign Units"
   ]
  },
  {
   "cell_type": "markdown",
   "metadata": {},
   "source": [
    "We will pull the data out of the example dataset into individual variables and assign units. This is explained in further detain in the Simple Sounding notebook and in the [Metpy documentation](https://unidata.github.io/MetPy/latest/tutorials/unit_tutorial.html).\n"
   ]
  },
  {
   "cell_type": "code",
   "execution_count": null,
   "metadata": {
    "jupyter": {
     "outputs_hidden": false
    }
   },
   "outputs": [],
   "source": [
    "pres = sounding_data['pressure'].values * units.hPa\n",
    "temp = sounding_data['temperature'].values * units.degC\n",
    "dewpoint = sounding_data['dewpoint'].values * units.degC\n",
    "wind_speed = sounding_data['speed'].values * units.knots\n",
    "wind_dir = sounding_data['direction'].values * units.degrees\n",
    "u, v = mpcalc.wind_components(wind_speed, wind_dir)\n",
    "\n",
    "lcl_ds = mpcalc.parcel_profile_with_lcl_as_dataset(pres, temp, dewpoint)"
   ]
  },
  {
   "cell_type": "code",
   "execution_count": null,
   "metadata": {
    "jupyter": {
     "outputs_hidden": false
    }
   },
   "outputs": [],
   "source": [
    "lcl_ds"
   ]
  },
  {
   "cell_type": "markdown",
   "metadata": {},
   "source": [
    "## Create Sounding Plot"
   ]
  },
  {
   "cell_type": "code",
   "execution_count": null,
   "metadata": {
    "jupyter": {
     "outputs_hidden": false
    }
   },
   "outputs": [],
   "source": [
    "# Create figure and set size\n",
    "fig = plt.figure(figsize=(9, 9))\n",
    "skew = SkewT(fig, rotation=45)\n",
    "\n",
    "# Plot the data using the data from the xarray Dataset including the parcel temperature with\n",
    "# the LCL level included\n",
    "skew.plot(lcl_ds.isobaric, lcl_ds.ambient_temperature, 'red')\n",
    "skew.plot(lcl_ds.isobaric, lcl_ds.ambient_dew_point, 'green')\n",
    "skew.plot(lcl_ds.isobaric, lcl_ds.parcel_temperature.metpy.convert_units('degC'), 'black')\n",
    "\n",
    "# Plot wind barbs\n",
    "my_interval = np.arange(100, 1000, 50) * units('hPa') #set spacing interval\n",
    "ix = mpcalc.resample_nn_1d(pres, my_interval) #find nearest indices for chosen interval\n",
    "skew.plot_barbs(pres[ix], u[ix], v[ix], xloc=1) #plot values closest to chosen interval\n",
    "\n",
    "# Improve labels and set axis limits\n",
    "skew.ax.set_xlabel('Temperature (\\N{DEGREE CELSIUS})')\n",
    "skew.ax.set_ylabel('Pressure (hPa)')\n",
    "skew.ax.set_ylim(1000, 100)\n",
    "skew.ax.set_xlim(-40, 59)\n",
    "\n",
    "# Add the relevant special lines throughout the figure\n",
    "skew.plot_dry_adiabats(t0=np.arange(233, 533, 15) * units.K, alpha=0.25, color='orangered')\n",
    "skew.plot_moist_adiabats(t0=np.arange(233, 400, 10) * units.K, alpha=0.25, color='tab:green')\n",
    "skew.plot_mixing_lines(pressure=np.arange(1000, 99, -25) * units.hPa, linestyle='dotted', color='tab:blue')\n",
    "\n",
    "# Add the MetPy logo!\n",
    "fig = plt.gcf()\n",
    "add_metpy_logo(fig, 115, 100, size='small');\n",
    "\n",
    "# Add titles\n",
    "plt.title('KOUN', loc='left')\n",
    "plt.title('2011-05-22 12 UTC', loc='right');"
   ]
  }
 ],
 "metadata": {
  "kernelspec": {
   "display_name": "Python 3 (ipykernel)",
   "language": "python",
   "name": "python3"
  },
  "language_info": {
   "codemirror_mode": {
    "name": "ipython",
    "version": 3
   },
   "file_extension": ".py",
   "mimetype": "text/x-python",
   "name": "python",
   "nbconvert_exporter": "python",
   "pygments_lexer": "ipython3",
   "version": "3.9.16"
  }
 },
 "nbformat": 4,
 "nbformat_minor": 4
}
