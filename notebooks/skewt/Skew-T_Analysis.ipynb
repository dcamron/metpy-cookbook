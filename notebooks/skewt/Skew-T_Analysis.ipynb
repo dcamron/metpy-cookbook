{
 "cells": [
  {
   "cell_type": "markdown",
   "metadata": {
    "cell_marker": "\"\"\""
   },
   "source": [
    "Skew-T Analysis\n",
    "===============\n",
    "\n",
    "Create a Skew-T plot using remote data from University of Wyoming.\n",
    "\n",
    "This example uses example data from the University of Wyoming sounding\n",
    "archive for 12 UTC 31 October 2016 for Minneapolis, MN (MPX)."
   ]
  },
  {
   "cell_type": "markdown",
   "metadata": {},
   "source": [
    "## Imports"
   ]
  },
  {
   "cell_type": "code",
   "execution_count": null,
   "metadata": {},
   "outputs": [],
   "source": [
    "import matplotlib.pyplot as plt\n",
    "import numpy as np\n",
    "import pandas as pd\n",
    "\n",
    "import metpy.calc as mpcalc\n",
    "from metpy.cbook import get_test_data\n",
    "from metpy.plots import add_metpy_logo, SkewT\n",
    "from metpy.units import units\n",
    "\n",
    "from datetime import datetime\n",
    "from siphon.simplewebservice.wyoming import WyomingUpperAir"
   ]
  },
  {
   "cell_type": "markdown",
   "metadata": {},
   "source": [
    "## Obtain Data and Format\n",
    "\n",
    "This requires an internet connection to access the sounding data from a\n",
    "remote server at the University of Wyoming. <br>\n",
    "\n",
    "First we will create variables for date, time and station. <br>\n",
    "Format: `datetime(YYYY, MM, DD, HH)` <br>\n",
    "\n",
    "The `station` entry will need the be the three letter identifier of the station you want to look at. The National Center for Atmospheric Research (NCAR) [Research Applications Labratory](https://ral.ucar.edu) (RAL) continously updates a [detailed list of all stations](https://weather.rap.ucar.edu/surface/stations.txt). "
   ]
  },
  {
   "cell_type": "code",
   "execution_count": null,
   "metadata": {},
   "outputs": [],
   "source": [
    "# Create variables for preferred date, time and station\n",
    "preferred_date = datetime(2016, 10, 26, 12)\n",
    "station = 'MPX'"
   ]
  },
  {
   "cell_type": "code",
   "execution_count": null,
   "metadata": {},
   "outputs": [],
   "source": [
    "# Read remote sounding data based on preferred_date and station\n",
    "sounding_data = WyomingUpperAir.request_data(preferred_date, station)"
   ]
  },
  {
   "cell_type": "code",
   "execution_count": null,
   "metadata": {
    "tags": []
   },
   "outputs": [],
   "source": [
    "sounding_data"
   ]
  },
  {
   "cell_type": "markdown",
   "metadata": {},
   "source": [
    "## Assign Units"
   ]
  },
  {
   "cell_type": "markdown",
   "metadata": {},
   "source": [
    "We will pull the data out of the example dataset into individual variables and assign units. This is explained in further detain in the Simple Sounding notebook and in the [Metpy documentation](https://unidata.github.io/MetPy/latest/tutorials/unit_tutorial.html).\n"
   ]
  },
  {
   "cell_type": "code",
   "execution_count": null,
   "metadata": {},
   "outputs": [],
   "source": [
    "pres = sounding_data['pressure'].values * units.hPa\n",
    "temp = sounding_data['temperature'].values * units.degC\n",
    "dewpoint = sounding_data['dewpoint'].values * units.degC\n",
    "wind_speed = sounding_data['speed'].values * units.knots\n",
    "wind_dir = sounding_data['direction'].values * units.degrees\n",
    "u = sounding_data['u_wind'].values * units.knots\n",
    "v = sounding_data['v_wind'].values * units.knots"
   ]
  },
  {
   "cell_type": "markdown",
   "metadata": {
    "tags": []
   },
   "source": [
    "## Create Sounding Plot"
   ]
  },
  {
   "cell_type": "code",
   "execution_count": null,
   "metadata": {
    "tags": []
   },
   "outputs": [],
   "source": [
    "# Create figure and set size\n",
    "fig = plt.figure(figsize=(9, 9))\n",
    "skew = SkewT(fig, rotation=45)\n",
    "\n",
    "# Plot temperature and dewpoint lines\n",
    "skew.plot(pres, temp, 'red')\n",
    "skew.plot(pres, dewpoint, 'green')\n",
    "\n",
    "# Plot wind barbs\n",
    "my_interval = np.arange(100, 1000, 25) * units('hPa')\n",
    "ix = mpcalc.resample_nn_1d(pres, my_interval)\n",
    "skew.plot_barbs(pres[ix], u[ix], v[ix], y_clip_radius=0.001)\n",
    "\n",
    "# Improve labels and set axis limits\n",
    "skew.ax.set_xlabel('Temperature (\\N{DEGREE CELSIUS})')\n",
    "skew.ax.set_ylabel('Pressure (hPa)')\n",
    "skew.ax.set_ylim(1000, 100)\n",
    "\n",
    "# Add the relevant special lines\n",
    "skew.plot_dry_adiabats(t0=np.arange(233, 533, 10) * units.K, alpha=0.25, color='orangered')\n",
    "skew.plot_moist_adiabats(t0=np.arange(233, 400, 5) * units.K, alpha=0.25, color='tab:green')\n",
    "skew.plot_mixing_lines(pressure=np.arange(1000, 99, -25) * units.hPa, linestyle='dotted', color='tab:blue')\n",
    "\n",
    "# Add the MetPy logo!\n",
    "fig = plt.gcf()\n",
    "add_metpy_logo(fig, 115, 100, size='small');\n",
    "\n",
    "# Add some descriptive titles\n",
    "plt.title('{} Sounding'.format(station), loc='left')\n",
    "plt.title('Valid Time: {}'.format(preferred_date), loc='right');"
   ]
  }
 ],
 "metadata": {
  "jupytext": {
   "cell_metadata_filter": "-all",
   "main_language": "python",
   "notebook_metadata_filter": "-all"
  },
  "kernelspec": {
   "display_name": "Python 3 (ipykernel)",
   "language": "python",
   "name": "python3"
  },
  "language_info": {
   "codemirror_mode": {
    "name": "ipython",
    "version": 3
   },
   "file_extension": ".py",
   "mimetype": "text/x-python",
   "name": "python",
   "nbconvert_exporter": "python",
   "pygments_lexer": "ipython3",
   "version": "3.9.16"
  }
 },
 "nbformat": 4,
 "nbformat_minor": 4
}
