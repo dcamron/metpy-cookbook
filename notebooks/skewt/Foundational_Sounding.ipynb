{
 "cells": [
  {
   "cell_type": "markdown",
   "metadata": {},
   "source": [
    "# MetPy Skew-T Cookbook"
   ]
  },
  {
   "cell_type": "markdown",
   "metadata": {},
   "source": [
    "## Overview\n",
    "This Project Pythia Cookbook will cover creating Skew-T plots with MetPy. <br>\n",
    "\n",
    "In this Cookbook, you will learn:\n",
    "1. The foundations of creating a basic Skew-T with MetPy.\n",
    "1. Adding advanced features to a Skew-T such as Convective Available Potential Energy (CAPE) and Convective Inhibition (CIN) shading, Lifted condensation Level marker (LCL) and parcel profile.\n",
    "1. Creating a Hodograph with multiple layout options.\n",
    "1. Accessing remote Upper Air data with Siphon from University of Wyoming and Iowa State University.\n",
    "1. Using MetPy to calculate several Skew-T parameters."
   ]
  },
  {
   "cell_type": "markdown",
   "metadata": {},
   "source": [
    "## Prerequisites\n",
    "\n",
    "| Concepts | Importance | Notes |\n",
    "| --- | --- | --- |\n",
    "| [Intermediate NumPy](https://foundations.projectpythia.org/core/numpy/intermediate-numpy.html)| Necessary | |\n",
    "| [Matplotlib Basics](https://foundations.projectpythia.org/core/matplotlib/matplotlib-basics.html) | Necessary |\n",
    "\n",
    "- **Time to learn**: 30 minutes\n"
   ]
  },
  {
   "cell_type": "markdown",
   "metadata": {},
   "source": [
    "---"
   ]
  },
  {
   "cell_type": "markdown",
   "metadata": {},
   "source": [
    "## Imports"
   ]
  },
  {
   "cell_type": "code",
   "execution_count": null,
   "metadata": {
    "tags": []
   },
   "outputs": [],
   "source": [
    "import matplotlib.pyplot as plt\n",
    "import numpy as np\n",
    "import pandas as pd\n",
    "\n",
    "import metpy.calc as mpcalc\n",
    "from metpy.cbook import get_test_data\n",
    "from metpy.plots import add_metpy_logo, SkewT\n",
    "from metpy.units import units"
   ]
  },
  {
   "cell_type": "markdown",
   "metadata": {},
   "source": [
    "# Simple Sounding with MetPy Test Data\n",
    "\n",
    "Use MetPy to make a simple Skew-T plot. This will serve as a base for all Skew-T plots throughout this cookbook. <br>"
   ]
  },
  {
   "cell_type": "markdown",
   "metadata": {},
   "source": [
    "## Obtain Data and Format"
   ]
  },
  {
   "cell_type": "markdown",
   "metadata": {},
   "source": [
    "Upper air data can be obtained using the siphon package, but for this example we will use some of MetPy's sample data.\n",
    "`as_file_obj=False), skiprows=5, usecols=[0, 1, 2, 3, 6, 7], names=col_names)` is necessary due to the formatting of the MetPy sample data. This formatting is not needed when using upper air data obtained via Siphon. Obtaining data with Siphon will be covered in a later notebook. "
   ]
  },
  {
   "cell_type": "code",
   "execution_count": null,
   "metadata": {
    "jupyter": {
     "outputs_hidden": false
    }
   },
   "outputs": [],
   "source": [
    "col_names = ['pressure', 'height', 'temperature', 'dewpoint', 'direction', 'speed']\n",
    "\n",
    "sounding_data= pd.read_fwf(get_test_data('jan20_sounding.txt', as_file_obj=False),\n",
    "                 skiprows=5, usecols=[0, 1, 2, 3, 6, 7], names=col_names)\n",
    "\n",
    "# Drop any rows with all not a number (NaN) values for temperature, dewpoint, and winds\n",
    "sounding_data = sounding_data.dropna(subset=('temperature', 'dewpoint', 'direction', 'speed'\n",
    "                       ), how='all').reset_index(drop=True)\n",
    "\n",
    "sounding_data.head()"
   ]
  },
  {
   "cell_type": "markdown",
   "metadata": {},
   "source": [
    "## Assign Units"
   ]
  },
  {
   "cell_type": "markdown",
   "metadata": {},
   "source": [
    "One of MetPy's powerful features is its unit syntax. MetPy typically requires units to be attached to arrays before being passed to MetPy functions. The MetPy documentation has a full tutorial section on [working with units](https://unidata.github.io/MetPy/latest/tutorials/unit_tutorial.html). <br>\n",
    "\n",
    "In order to plot our sounding data, we will need to pass units to the individual variables in our dataset."
   ]
  },
  {
   "cell_type": "code",
   "execution_count": null,
   "metadata": {
    "jupyter": {
     "outputs_hidden": false
    }
   },
   "outputs": [],
   "source": [
    "pres = sounding_data['pressure'].values * units.hPa\n",
    "temp = sounding_data['temperature'].values * units.degC\n",
    "dewpoint = sounding_data['dewpoint'].values * units.degC\n",
    "wind_speed = sounding_data['speed'].values * units.knots\n",
    "wind_dir = sounding_data['direction'].values * units.degrees\n",
    "u, v = mpcalc.wind_components(wind_speed, wind_dir)"
   ]
  },
  {
   "cell_type": "code",
   "execution_count": null,
   "metadata": {
    "tags": []
   },
   "outputs": [],
   "source": [
    "pres"
   ]
  },
  {
   "cell_type": "markdown",
   "metadata": {},
   "source": [
    "## Create Sounding Plot"
   ]
  },
  {
   "cell_type": "code",
   "execution_count": null,
   "metadata": {
    "jupyter": {
     "outputs_hidden": false
    }
   },
   "outputs": [],
   "source": [
    "# Create figure and set size\n",
    "fig = plt.figure(figsize=(9, 9))\n",
    "skew = SkewT(fig, rotation=45)\n",
    "\n",
    "# Plot temperature and dewpoint lines\n",
    "skew.plot(pres, temp, 'red')\n",
    "skew.plot(pres, dewpoint, 'green')\n",
    "\n",
    "# Plot wind barbs\n",
    "skew.plot_barbs(pres, u, v)\n",
    "\n",
    "# Improve labels and set axis limits\n",
    "skew.ax.set_xlabel('Temperature (\\N{DEGREE CELSIUS})')\n",
    "skew.ax.set_ylabel('Pressure (hPa)')\n",
    "skew.ax.set_ylim(1000, 100)\n",
    "\n",
    "# Add the relevant special lines\n",
    "skew.plot_dry_adiabats()\n",
    "skew.plot_moist_adiabats()\n",
    "skew.plot_mixing_lines()\n",
    "\n",
    "# Add the MetPy logo!\n",
    "fig = plt.gcf()\n",
    "add_metpy_logo(fig, 115, 100, size='small');\n",
    "\n",
    "# Add a title\n",
    "plt.title('Simple Sounding');"
   ]
  },
  {
   "cell_type": "markdown",
   "metadata": {},
   "source": [
    "### Let's Unpack the the Previous Code Cell"
   ]
  },
  {
   "cell_type": "markdown",
   "metadata": {},
   "source": [
    ">`fig = plt.figure(figsize=(6, 6))` <br>\n",
    "> - This line creates the figure and sets the size. Equal proportions are typically recommended for a Skew-T. <br>"
   ]
  },
  {
   "cell_type": "markdown",
   "metadata": {},
   "source": [
    " \n",
    "\n",
    ">`skew = SkewT(fig, rotation=45)` <br>\n",
    "> - Calls the MetPy [Skew-T](https://unidata.github.io/MetPy/latest/api/generated/metpy.plots.SkewT.html) function to create a figure that we can easily plot upper air data on. Rotation is set at 45 to create the characteristic skewed appearence of a Skew-T."
   ]
  },
  {
   "cell_type": "markdown",
   "metadata": {},
   "source": [
    ">`skew.plot(pres, temp, 'red')` <br>\n",
    ">`skew.plot(pres, dewpoint, 'green')` <br>\n",
    ">- These two lines plot the [temperature and dewpoint lines](https://unidata.github.io/MetPy/latest/api/generated/metpy.plots.SkewT.html#metpy.plots.SkewT.plot). The lines are set to the standard colors, but can be adjusted for colorblind accessibility. Matplotlib has extensive [documentation](https://matplotlib.org/stable/tutorials/colors/colormaps.html) on choosing colormaps and color vision deficiencies resources."
   ]
  },
  {
   "cell_type": "markdown",
   "metadata": {},
   "source": [
    "> `skew.plot_barbs(pres, u, v)`<br>\n",
    "> - This line plots the wind barbs. Customization options can be found [here](https://unidata.github.io/MetPy/latest/api/generated/metpy.plots.SkewT.html#metpy.plots.SkewT.plot_barbs)."
   ]
  },
  {
   "cell_type": "markdown",
   "metadata": {},
   "source": [
    ">`skew.ax.set_xlabel('Temperature (\\N{DEGREE CELSIUS})')` <br>\n",
    ">`skew.ax.set_ylabel('Pressure (hPa)')` <br>\n",
    ">`skew.ax.set_ylim(1000, 100)` <br>\n",
    "> - These lines improve the axes labels and set the y-axis limit to the standard values typically used in a Skew-T diagram. \n",
    "<br>"
   ]
  },
  {
   "cell_type": "markdown",
   "metadata": {},
   "source": [
    ">`skew.plot_dry_adiabats()`<br>\n",
    ">`skew.plot_moist_adiabats()`<br>\n",
    ">`skew.plot_mixing_lines()`<br>\n",
    "> - These add each relevant special line if desired. The argument `colors='preferred color here'` can be passed if you would like to change the colors from the default. Further customization options can be found in the MetPy [documentation](https://unidata.github.io/MetPy/latest/api/generated/metpy.plots.SkewT.html#metpy.plots.SkewT.plot_dry_adiabats) for each line."
   ]
  },
  {
   "cell_type": "markdown",
   "metadata": {},
   "source": [
    ">`fig = plt.gcf()`<br>\n",
    "> - Gcf stands for get current figure. This retrieves the current figure and allows us to modify it with the following line. <br>"
   ]
  },
  {
   "cell_type": "markdown",
   "metadata": {},
   "source": [
    ">`add_metpy_logo(fig, 115, 100)`<br>\n",
    ">- When `add_metpy_logo` is included in the imports cell, it allows use of the `add_metpy_logo()` function. This is greatly appreciated when utilizing MetPy for your plots. The [position and size](https://unidata.github.io/MetPy/latest/api/generated/metpy.plots.add_metpy_logo.html#metpy.plots.add_metpy_logo) of the logo can be adjusted. \n",
    "<br>"
   ]
  },
  {
   "cell_type": "markdown",
   "metadata": {},
   "source": [
    ">`plt.title('Simple Sounding');`<br>\n",
    ">- This adds the title to the figure. The ; removes text that populates above the figure. \n",
    "<br>"
   ]
  },
  {
   "cell_type": "markdown",
   "metadata": {},
   "source": [
    "## Now, Let's Improve the Wind Barbs\n",
    "We will use the same code as above, but will add three additional lines of code. "
   ]
  },
  {
   "cell_type": "code",
   "execution_count": null,
   "metadata": {
    "jupyter": {
     "outputs_hidden": false
    }
   },
   "outputs": [],
   "source": [
    "# Create figure and set size\n",
    "fig = plt.figure(figsize=(9, 9))\n",
    "skew = SkewT(fig, rotation=45)\n",
    "\n",
    "# Plot temperature and dewpoint lines\n",
    "skew.plot(pres, temp, 'red')\n",
    "skew.plot(pres, dewpoint, 'green')\n",
    "\n",
    "# Set spacing interval--Every 50 hPa from 1000 to 100 hPa\n",
    "my_interval = np.arange(100, 1000, 50) * units('hPa')\n",
    "\n",
    "# Get indexes of values closest to chosen interval\n",
    "ix = mpcalc.resample_nn_1d(pres, my_interval)\n",
    "\n",
    "# Plot wind barbs with values nearest to chosen interval values\n",
    "skew.plot_barbs(pres[ix], u[ix], v[ix])\n",
    "\n",
    "# Improve labels and set axis limits\n",
    "skew.ax.set_xlabel('Temperature (\\N{DEGREE CELSIUS})')\n",
    "skew.ax.set_ylabel('Pressure (hPa)')\n",
    "skew.ax.set_ylim(1000, 100)\n",
    "\n",
    "# Add the relevant special lines\n",
    "skew.plot_dry_adiabats()\n",
    "skew.plot_moist_adiabats()\n",
    "skew.plot_mixing_lines()\n",
    "\n",
    "# Add the MetPy logo!\n",
    "fig = plt.gcf()\n",
    "add_metpy_logo(fig, 115, 100, size='small');\n",
    "\n",
    "# Add a title\n",
    "plt.title('Simple Sounding');"
   ]
  },
  {
   "cell_type": "markdown",
   "metadata": {},
   "source": [
    "The wind barbs on this plot are much more readable. Let's review the added code to understand why."
   ]
  },
  {
   "cell_type": "markdown",
   "metadata": {
    "tags": []
   },
   "source": [
    "> `my_interval = np.arange(100, 1000, 50) * units('hPa')`\n",
    "> - This creates a custom spacing interval from the pressure levels the wind barbs are plotted on."
   ]
  },
  {
   "cell_type": "markdown",
   "metadata": {},
   "source": [
    "> `ix = mpcalc.resample_nn_1d(pres, my_interval)`\n",
    "> - We defined where we want the wind barbs with `my_interval`. Since mb is not an index in our dataset, we have to use the function `mpcalc.resample_nn_1d()` to determine what index value each interval closest matches up with. Further information can be found in the MetPy [documentation](https://unidata.github.io/MetPy/latest/api/generated/metpy.calc.resample_nn_1d.html)."
   ]
  },
  {
   "cell_type": "markdown",
   "metadata": {
    "tags": []
   },
   "source": [
    ">`skew.plot_barbs(pres[ix], u[ix], v[ix])`\n",
    "> - Now we just add the `ix` variable to each parameter in `.plot_barbs()` to produce the wind barbs at the interval we set."
   ]
  },
  {
   "cell_type": "markdown",
   "metadata": {},
   "source": [
    "## Optional Step\n",
    "We can extend the moist adiabat, dry adiabat, and mixing ratio lines throughout the figure by adding including optional parameters. See the [documentation](https://unidata.github.io/MetPy/latest/api/generated/metpy.plots.SkewT.html#metpy.plots.SkewT.plot_dry_adiabats) for details on how to further adjust these for readability preferences. "
   ]
  },
  {
   "cell_type": "code",
   "execution_count": null,
   "metadata": {},
   "outputs": [],
   "source": [
    "# Create figure and set size\n",
    "fig = plt.figure(figsize=(9, 9))\n",
    "skew = SkewT(fig, rotation=45)\n",
    "\n",
    "# Plot temperature and dewpoint lines\n",
    "skew.plot(pres, temp, 'red')\n",
    "skew.plot(pres, dewpoint, 'green')\n",
    "\n",
    "# Set spacing interval--Every 50 hPa from 1000 to 100 hPa\n",
    "my_interval = np.arange(100, 1000, 50) * units('hPa')\n",
    "\n",
    "# Get indexes of values closest to chosen interval\n",
    "ix = mpcalc.resample_nn_1d(pres, my_interval)\n",
    "\n",
    "# Plot wind barbs with values nearest to chosen interval values\n",
    "skew.plot_barbs(pres[ix], u[ix], v[ix])\n",
    "\n",
    "# Improve labels and set axis limits\n",
    "skew.ax.set_xlabel('Temperature (\\N{DEGREE CELSIUS})')\n",
    "skew.ax.set_ylabel('Pressure (hPa)')\n",
    "skew.ax.set_ylim(1000, 100)\n",
    "\n",
    "# Add the relevant special lines\n",
    "skew.plot_dry_adiabats(t0=np.arange(233, 533, 10) * units.K, alpha=0.25, color='orangered')\n",
    "skew.plot_moist_adiabats(t0=np.arange(233, 400, 5) * units.K, alpha=0.25, color='tab:green')\n",
    "skew.plot_mixing_lines(pressure=np.arange(1000, 99, -25) * units.hPa, linestyle='dotted', color='tab:blue')\n",
    "\n",
    "# Add the MetPy logo!\n",
    "fig = plt.gcf()\n",
    "add_metpy_logo(fig, 115, 100, size='small');\n",
    "\n",
    "# Add a title\n",
    "plt.title('Simple Sounding');"
   ]
  },
  {
   "cell_type": "markdown",
   "metadata": {},
   "source": [
    "## Resources and references\n",
    "> [MetPy Documentation](https://unidata.github.io/MetPy/latest/index.html) <br>\n",
    "> [Unidata Main Website](https://www.unidata.ucar.edu) <br>\n",
    "> [Unidata GitHub](https://github.com/Unidata) <br>\n",
    "> [Unidata YouTube Channel](https://www.youtube.com/user/unidatanews) <br>\n",
    "> [Matplotlib Documentation](https://matplotlib.org) <br>\n"
   ]
  }
 ],
 "metadata": {
  "kernelspec": {
   "display_name": "Python 3 (ipykernel)",
   "language": "python",
   "name": "python3"
  },
  "language_info": {
   "codemirror_mode": {
    "name": "ipython",
    "version": 3
   },
   "file_extension": ".py",
   "mimetype": "text/x-python",
   "name": "python",
   "nbconvert_exporter": "python",
   "pygments_lexer": "ipython3",
   "version": "3.9.16"
  },
  "nbdime-conflicts": {
   "local_diff": [
    {
     "diff": [
      {
       "diff": [
        {
         "key": 0,
         "op": "addrange",
         "valuelist": [
          "Python 3"
         ]
        },
        {
         "key": 0,
         "length": 1,
         "op": "removerange"
        }
       ],
       "key": "display_name",
       "op": "patch"
      }
     ],
     "key": "kernelspec",
     "op": "patch"
    }
   ],
   "remote_diff": [
    {
     "diff": [
      {
       "diff": [
        {
         "key": 0,
         "op": "addrange",
         "valuelist": [
          "Python3"
         ]
        },
        {
         "key": 0,
         "length": 1,
         "op": "removerange"
        }
       ],
       "key": "display_name",
       "op": "patch"
      }
     ],
     "key": "kernelspec",
     "op": "patch"
    }
   ]
  },
  "toc-autonumbering": false
 },
 "nbformat": 4,
 "nbformat_minor": 4
}
