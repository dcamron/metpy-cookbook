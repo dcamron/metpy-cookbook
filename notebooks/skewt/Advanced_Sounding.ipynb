{
 "cells": [
  {
   "cell_type": "markdown",
   "metadata": {},
   "source": [
    "\n",
    "# Advanced Sounding\n",
    "\n",
    "Plot a sounding using MetPy with more advanced features. This will use the same formatting and another dataset from MetPy's sample data.<br>\n",
    "> New additions\n",
    "> - Lifted condensation level calculation (LCL)\n",
    "> - Surface based parcel profile \n",
    "> - Convective Available Potential Energy (CAPE) and Convective Inhibition (CIN) shaded\n",
    "> - 0 degree isotherm distinguished\n"
   ]
  },
  {
   "cell_type": "markdown",
   "metadata": {},
   "source": [
    "## Imports"
   ]
  },
  {
   "cell_type": "code",
   "execution_count": null,
   "metadata": {},
   "outputs": [],
   "source": [
    "import matplotlib.pyplot as plt\n",
    "import numpy as np\n",
    "import pandas as pd\n",
    "\n",
    "import metpy.calc as mpcalc\n",
    "from metpy.cbook import get_test_data\n",
    "from metpy.plots import add_metpy_logo, SkewT\n",
    "from metpy.units import units"
   ]
  },
  {
   "cell_type": "markdown",
   "metadata": {},
   "source": [
    "## Obtain Data and Format"
   ]
  },
  {
   "cell_type": "markdown",
   "metadata": {},
   "source": [
    "Upper air data can be obtained using the siphon package, but for this example we will use some of MetPy's sample data.\n",
    "`as_file_obj=False), skiprows=5, usecols=[0, 1, 2, 3, 6, 7], names=col_names)` is necessary due to the formatting of the MetPy sample data. This formatting is not needed when using upper air data obtained via Siphon. Obtaining data with Siphon will be covered in a later notebook. "
   ]
  },
  {
   "cell_type": "code",
   "execution_count": null,
   "metadata": {},
   "outputs": [],
   "source": [
    "col_names = ['pressure', 'height', 'temperature', 'dewpoint', 'direction', 'speed']\n",
    "\n",
    "sounding_data = pd.read_fwf(get_test_data('may4_sounding.txt', as_file_obj=False),\n",
    "                 skiprows=5, usecols=[0, 1, 2, 3, 6, 7], names=col_names)\n",
    "\n",
    "# Drop any rows with all not a number (NaN) values for temperature, dewpoint, and winds\n",
    "sounding_data = sounding_data.dropna(subset=('temperature', 'dewpoint', 'direction', 'speed'\n",
    "                       ), how='all').reset_index(drop=True)"
   ]
  },
  {
   "cell_type": "markdown",
   "metadata": {},
   "source": [
    "## Assign Units"
   ]
  },
  {
   "cell_type": "markdown",
   "metadata": {},
   "source": [
    "We will pull the data out of the example dataset into individual variables and assign units. This is explained in further detail in the Simple Sounding notebook and in the [Metpy documentation](https://unidata.github.io/MetPy/latest/tutorials/unit_tutorial.html).\n"
   ]
  },
  {
   "cell_type": "code",
   "execution_count": null,
   "metadata": {},
   "outputs": [],
   "source": [
    "pres = sounding_data['pressure'].values * units.hPa\n",
    "temp = sounding_data['temperature'].values * units.degC\n",
    "dewpoint = sounding_data['dewpoint'].values * units.degC\n",
    "wind_speed = sounding_data['speed'].values * units.knots\n",
    "wind_dir = sounding_data['direction'].values * units.degrees\n",
    "u, v = mpcalc.wind_components(wind_speed, wind_dir)"
   ]
  },
  {
   "cell_type": "markdown",
   "metadata": {},
   "source": [
    "## Create Sounding Plot"
   ]
  },
  {
   "cell_type": "code",
   "execution_count": null,
   "metadata": {},
   "outputs": [],
   "source": [
    "# Create figure and set size\n",
    "fig = plt.figure(figsize=(9, 9))\n",
    "skew = SkewT(fig, rotation=45)\n",
    "\n",
    "# Plot temperature, dewpoint and wind barbs\n",
    "skew.plot(pres, temp, 'red')\n",
    "skew.plot(pres, dewpoint, 'green')\n",
    "\n",
    "# Plot wind barbs\n",
    "my_interval = np.arange(100, 1000, 50) * units('hPa') #set spacing interval\n",
    "ix = mpcalc.resample_nn_1d(pres, my_interval) #find nearest indices for chosen interval\n",
    "skew.plot_barbs(pres[ix], u[ix], v[ix], xloc=1) #plot values closest to chosen interval\n",
    "\n",
    "# Improve labels and set axis limits\n",
    "skew.ax.set_xlabel('Temperature (\\N{DEGREE CELSIUS})')\n",
    "skew.ax.set_ylabel('Pressure (hPa)')\n",
    "skew.ax.set_ylim(1000, 100)\n",
    "skew.ax.set_xlim(-40, 59)\n",
    "\n",
    "# Calculate LCL height and plot as black dot.\n",
    "lcl_pressure, lcl_temperature = mpcalc.lcl(pres[0], temp[0], dewpoint[0]) #index 0 is chosen to lift parcel from the surface\n",
    "skew.plot(lcl_pressure, lcl_temperature, 'ko', markerfacecolor='black')\n",
    "\n",
    "# Calculate full parcel profile and add to plot as black line\n",
    "prof = mpcalc.parcel_profile(pres, temp[0], dewpoint[0]).to('degC')\n",
    "skew.plot(pres, prof, 'black', linewidth=2)\n",
    "\n",
    "# Shade areas of CAPE and CIN\n",
    "skew.shade_cin(pres, temp, prof, dewpoint)\n",
    "skew.shade_cape(pres, temp, prof)\n",
    "\n",
    "# Add emphasis to 0 degree isotherm with color change\n",
    "skew.ax.axvline(0, color='c', linestyle='--', linewidth=2)\n",
    "\n",
    "# Add the relevant special lines throughout the figure\n",
    "skew.plot_dry_adiabats(t0=np.arange(233, 533, 15) * units.K, alpha=0.25, color='orangered')\n",
    "skew.plot_moist_adiabats(t0=np.arange(233, 400, 10) * units.K, alpha=0.25, color='tab:green')\n",
    "skew.plot_mixing_lines(pressure=np.arange(1000, 99, -25) * units.hPa, linestyle='dotted', color='tab:blue')\n",
    "\n",
    "# Add the MetPy logo!\n",
    "fig = plt.gcf()\n",
    "add_metpy_logo(fig, 115, 100, size='small');\n",
    "\n",
    "# Add a title\n",
    "plt.title('Advanced Sounding');"
   ]
  }
 ],
 "metadata": {
  "kernelspec": {
   "display_name": "Python 3 (ipykernel)",
   "language": "python",
   "name": "python3"
  },
  "language_info": {
   "codemirror_mode": {
    "name": "ipython",
    "version": 3
   },
   "file_extension": ".py",
   "mimetype": "text/x-python",
   "name": "python",
   "nbconvert_exporter": "python",
   "pygments_lexer": "ipython3",
   "version": "3.9.16"
  }
 },
 "nbformat": 4,
 "nbformat_minor": 4
}
