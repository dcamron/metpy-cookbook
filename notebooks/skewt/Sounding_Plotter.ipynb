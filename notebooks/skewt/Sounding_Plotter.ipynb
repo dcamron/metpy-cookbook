{
 "cells": [
  {
   "cell_type": "markdown",
   "metadata": {
    "cell_marker": "\"\"\""
   },
   "source": [
    "Sounding Plotter\n",
    "================\n",
    "\n",
    "This can be run as a script from the command line or as a notebook.\n",
    "\n",
    "Download and plot the most recent sounding data for a specified site.\n",
    "\n",
    "Provides a simple command line interface to specify a site. Using the current\n",
    "UTC time, the script calculates what the most recent sounding should be and requests\n",
    "it from the Wyoming archive using Siphon."
   ]
  },
  {
   "cell_type": "markdown",
   "metadata": {},
   "source": [
    "## Imports"
   ]
  },
  {
   "cell_type": "code",
   "execution_count": null,
   "metadata": {},
   "outputs": [],
   "source": [
    "import posixpath\n",
    "\n",
    "import numpy as np\n",
    "import matplotlib.pyplot as plt\n",
    "import metpy.calc as mpcalc\n",
    "from metpy.plots import add_metpy_logo, add_timestamp, SkewT\n",
    "from metpy.units import units\n",
    "\n",
    "from siphon.simplewebservice.wyoming import WyomingUpperAir\n"
   ]
  },
  {
   "cell_type": "markdown",
   "metadata": {
    "cell_marker": "##################################",
    "lines_to_next_cell": 0
   },
   "source": [
    "This class encapsulates the code needed to upload an image to Google Drive"
   ]
  },
  {
   "cell_type": "code",
   "execution_count": null,
   "metadata": {
    "lines_to_next_cell": 1
   },
   "outputs": [],
   "source": [
    "class DriveUploader:\n",
    "    def __init__(self, credsfile='mycreds.txt'):\n",
    "        from pydrive.drive import GoogleDrive\n",
    "        self.gdrive = GoogleDrive(self._get_auth(credsfile))\n",
    "\n",
    "    def _get_auth(self, credsfile):\n",
    "        from pydrive.auth import GoogleAuth\n",
    "        gauth = GoogleAuth()\n",
    "\n",
    "        # Try to load saved client credentials\n",
    "        gauth.LoadCredentialsFile(credsfile)\n",
    "        if gauth.credentials is None:\n",
    "            # Authenticate if they're not there\n",
    "            gauth.LocalWebserverAuth()\n",
    "        elif gauth.access_token_expired:\n",
    "            # Refresh them if expired\n",
    "            gauth.Refresh()\n",
    "        else:\n",
    "            # Initialize the saved creds\n",
    "            gauth.Authorize()\n",
    "        # Save the current credentials to a file\n",
    "        gauth.SaveCredentialsFile(credsfile)\n",
    "        return gauth\n",
    "\n",
    "    def _get_first_file_id(self, title, parent, **kwargs):\n",
    "        query = \"title='{}' and '{}' in parents\".format(title, parent)\n",
    "        for k, v in kwargs.items():\n",
    "            query += \" and {}='{}'\".format(k, v)\n",
    "        res = next(self.gdrive.ListFile({'q': query}))\n",
    "        if res:\n",
    "            return res[0]['id']\n",
    "        return None\n",
    "\n",
    "    def get_folder(self, path):\n",
    "        parent = 'root'\n",
    "        for part in path.split('/'):\n",
    "            if not part:\n",
    "                continue\n",
    "            parent = self._get_first_file_id(part, parent,\n",
    "                                             mimeType='application/vnd.google-apps.folder')\n",
    "        return parent\n",
    "\n",
    "    def create_or_get_file(self, path):\n",
    "        pathname, filename = posixpath.split(path)\n",
    "        folder = self.get_folder(pathname)\n",
    "        create_file_args = {'parents': [{'kind': 'drive#fileLink', 'id': folder}]}\n",
    "\n",
    "        file_id = self._get_first_file_id(filename, folder)\n",
    "        if file_id is not None:\n",
    "            create_file_args['id'] = file_id\n",
    "        return self.gdrive.CreateFile(create_file_args)\n",
    "\n",
    "    def upload_to(self, local_path, remote_path):\n",
    "        f = self.create_or_get_file(remote_path)\n",
    "        f.SetContentFile(local_path)\n",
    "        f['title'] = posixpath.basename(remote_path)\n",
    "        f.Upload()"
   ]
  },
  {
   "cell_type": "markdown",
   "metadata": {
    "cell_marker": "##################################",
    "lines_to_next_cell": 0
   },
   "source": [
    "This function takes care of actually generating a skewT from the `DataFrame`"
   ]
  },
  {
   "cell_type": "code",
   "execution_count": null,
   "metadata": {
    "lines_to_next_cell": 1
   },
   "outputs": [],
   "source": [
    "def plot_skewt(df):\n",
    "    # We will pull the data out of the example dataset into individual variables\n",
    "    # and assign units.\n",
    "    pres = df['pressure'].values * units.hPa\n",
    "    temp = df['temperature'].values * units.degC\n",
    "    dewpoint = df['dewpoint'].values * units.degC\n",
    "    wind_speed = df['speed'].values * units.knots\n",
    "    wind_dir = df['direction'].values * units.degrees\n",
    "    u, v = mpcalc.wind_components(wind_speed, wind_dir)\n",
    "\n",
    "    # Create a new figure. The dimensions here give a good aspect ratio.\n",
    "    fig = plt.figure(figsize=(9, 9))\n",
    "    skew = SkewT(fig, rotation=45)\n",
    "\n",
    "    # Plot temperature, dewpoint and wind barbs\n",
    "    skew.plot(pres, temp, 'red')\n",
    "    skew.plot(pres, dewpoint, 'green')\n",
    "    \n",
    "    # Plot wind barbs\n",
    "    my_interval = np.arange(100, 1000, 50) * units('hPa') #set spacing interval\n",
    "    ix = mpcalc.resample_nn_1d(pres, my_interval) #find nearest indices for chosen interval\n",
    "    skew.plot_barbs(pres[ix], u[ix], v[ix], xloc=1) #plot values closest to chosen interval\n",
    "    \n",
    "    # Improve labels and set axis limits\n",
    "    skew.ax.set_xlabel('Temperature (\\N{DEGREE CELSIUS})')\n",
    "    skew.ax.set_ylabel('Pressure (hPa)')\n",
    "    skew.ax.set_ylim(1000, 100)\n",
    "    skew.ax.set_xlim(-40, 59)\n",
    "\n",
    "    # Calculate LCL height and plot as black dot.\n",
    "    lcl_pressure, lcl_temperature = mpcalc.lcl(pres[0], temp[0], dewpoint[0]) #index 0 is chosen to lift parcel from the surface\n",
    "    skew.plot(lcl_pressure, lcl_temperature, 'ko', markerfacecolor='black')\n",
    "\n",
    "    # Calculate full parcel profile and add to plot as black line\n",
    "    prof = mpcalc.parcel_profile(pres, temp[0], dewpoint[0]).to('degC')\n",
    "    skew.plot(pres, prof, 'black', linewidth=2)\n",
    "\n",
    "    # Shade areas of CAPE and CIN\n",
    "    skew.shade_cin(pres, temp, prof, dewpoint)\n",
    "    skew.shade_cape(pres, temp, prof)\n",
    "\n",
    "    # Add emphasis to 0 degree isotherm with color change\n",
    "    skew.ax.axvline(0, color='c', linestyle='--', linewidth=2)\n",
    "\n",
    "    # Add the relevant special lines throughout the figure\n",
    "    skew.plot_dry_adiabats(t0=np.arange(233, 533, 15) * units.K, alpha=0.25, color='orangered')\n",
    "    skew.plot_moist_adiabats(t0=np.arange(233, 400, 10) * units.K, alpha=0.25, color='tab:green')\n",
    "    skew.plot_mixing_lines(pressure=np.arange(1000, 99, -25) * units.hPa, linestyle='dotted', color='tab:blue')\n",
    "\n",
    "    # Add the MetPy logo!\n",
    "    fig = plt.gcf()\n",
    "    add_metpy_logo(fig, 115, 100, size='small');\n",
    "    \n",
    "    return skew\n",
    "\n",
    "\n",
    "def make_name(site, time):\n",
    "    return '{site}_{dt:%Y%m%d_%H%M}.png'.format(site=site, dt=time)"
   ]
  },
  {
   "cell_type": "markdown",
   "metadata": {
    "cell_marker": "##################################",
    "lines_to_next_cell": 0
   },
   "source": [
    "This is where the command line script will actually enter, and handles parsing\n",
    "command line arguments and driving everything else."
   ]
  },
  {
   "cell_type": "code",
   "execution_count": null,
   "metadata": {},
   "outputs": [],
   "source": [
    "if __name__ == '__main__':\n",
    "    import argparse\n",
    "    from datetime import datetime, timedelta, UTC\n",
    "    import tempfile\n",
    "\n",
    "    # Set up argument parsing for the script. Provides one argument for the site, and another\n",
    "    # that controls whether the plot should be shown or saved as an image.\n",
    "    parser = argparse.ArgumentParser(description='Download sounding data and plot.')\n",
    "    parser.add_argument('-s', '--site', help='Site to obtain data for', type=str,\n",
    "                        default='DDC')\n",
    "    parser.add_argument('--show', help='Whether to show the plot rather than save to disk',\n",
    "                        action='store_true')\n",
    "    parser.add_argument('-d', '--date', help='Date and time to request data for in YYYYMMDDHH.'\n",
    "                        ' Defaults to most recent 00/12 hour.', type=str)\n",
    "    parser.add_argument('-g', '--gdrive', help='Google Drive upload path', type=str)\n",
    "    parser.add_argument('-f', '--filename', help='Image filename', type=str)\n",
    "    args = parser.parse_args()\n",
    "\n",
    "    if args.date:\n",
    "        request_time = datetime.strptime(args.date, '%Y%m%d%H')\n",
    "    else:\n",
    "        # Figure out the most recent sounding, 00 or 12. Subtracting two hours\n",
    "        # helps ensure that we choose a time with data available.\n",
    "        now = datetime.now(UTC) - timedelta(hours=2)\n",
    "        request_time = now.replace(hour=(now.hour // 12) * 12, minute=0, second=0)\n",
    "\n",
    "    # Request the data and plot\n",
    "    df = WyomingUpperAir.request_data(request_time, args.site)\n",
    "    skewt = plot_skewt(df)\n",
    "\n",
    "    # Add the timestamp for the data to the plot\n",
    "    add_timestamp(skewt.ax, request_time, y=1.02, x=0, ha='left', fontsize='large')\n",
    "    skewt.ax.set_title(args.site)\n",
    "\n",
    "    if args.show:\n",
    "        plt.show()\n",
    "    else:\n",
    "        fname = args.filename if args.filename else make_name(args.site, request_time)\n",
    "        if args.gdrive:\n",
    "            uploader = DriveUploader()\n",
    "            with tempfile.NamedTemporaryFile(suffix='.png') as f:\n",
    "                skewt.ax.figure.savefig(f.name)\n",
    "                uploader.upload_to(f.name, posixpath.join(args.gdrive, fname))\n",
    "        else:\n",
    "            skewt.ax.figure.savefig(make_name(args.site, request_time))"
   ]
  },
  {
   "cell_type": "code",
   "execution_count": null,
   "metadata": {},
   "outputs": [],
   "source": []
  }
 ],
 "metadata": {
  "jupytext": {
   "cell_metadata_filter": "-all",
   "main_language": "python",
   "notebook_metadata_filter": "-all"
  },
  "kernelspec": {
   "display_name": "Python 3 (ipykernel)",
   "language": "python",
   "name": "python3"
  },
  "language_info": {
   "codemirror_mode": {
    "name": "ipython",
    "version": 3
   },
   "file_extension": ".py",
   "mimetype": "text/x-python",
   "name": "python",
   "nbconvert_exporter": "python",
   "pygments_lexer": "ipython3",
   "version": "3.9.16"
  }
 },
 "nbformat": 4,
 "nbformat_minor": 4
}
