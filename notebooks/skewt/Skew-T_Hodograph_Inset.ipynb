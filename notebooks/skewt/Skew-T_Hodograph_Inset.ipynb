{
 "cells": [
  {
   "cell_type": "markdown",
   "metadata": {},
   "source": [
    "\n",
    "# Hodograph Inset\n",
    "\n",
    "Layout a Skew-T plot with a hodograph inset into the plot.\n"
   ]
  },
  {
   "cell_type": "markdown",
   "metadata": {},
   "source": [
    "## Imports"
   ]
  },
  {
   "cell_type": "code",
   "execution_count": null,
   "metadata": {
    "jupyter": {
     "outputs_hidden": false
    }
   },
   "outputs": [],
   "source": [
    "import matplotlib.pyplot as plt\n",
    "import numpy as np\n",
    "import pandas as pd\n",
    "\n",
    "import metpy.calc as mpcalc\n",
    "from metpy.cbook import get_test_data\n",
    "from metpy.plots import add_metpy_logo, Hodograph, SkewT\n",
    "from metpy.units import units\n",
    "\n",
    "from mpl_toolkits.axes_grid1.inset_locator import inset_axes"
   ]
  },
  {
   "cell_type": "markdown",
   "metadata": {},
   "source": [
    "## Obtain Data and Format"
   ]
  },
  {
   "cell_type": "markdown",
   "metadata": {},
   "source": [
    "Upper air data can be obtained using the siphon package, but for this example we will use some of MetPy's sample data.\n",
    "`as_file_obj=False), skiprows=5, usecols=[0, 1, 2, 3, 6, 7], names=col_names)` is necessary due to the formatting of the MetPy sample data. This formatting is not needed when using upper air data obtained via Siphon. Obtaining data with Siphon will be covered in a later notebook. "
   ]
  },
  {
   "cell_type": "code",
   "execution_count": null,
   "metadata": {
    "jupyter": {
     "outputs_hidden": false
    }
   },
   "outputs": [],
   "source": [
    "col_names = ['pressure', 'height', 'temperature', 'dewpoint', 'direction', 'speed']\n",
    "\n",
    "sounding_data = pd.read_fwf(get_test_data('may4_sounding.txt', as_file_obj=False),\n",
    "                 skiprows=5, usecols=[0, 1, 2, 3, 6, 7], names=col_names)\n",
    "\n",
    "# Drop any rows with all not a number (NaN) values for temperature, dewpoint, and winds\n",
    "sounding_data = sounding_data.dropna(subset=('temperature', 'dewpoint', 'direction', 'speed'\n",
    "                       ), how='all').reset_index(drop=True)"
   ]
  },
  {
   "cell_type": "markdown",
   "metadata": {},
   "source": [
    "## Assign Units"
   ]
  },
  {
   "cell_type": "markdown",
   "metadata": {},
   "source": [
    "We will pull the data out of the example dataset into individual variables and assign units. This is explained in further detain in the Simple Sounding notebook and in the [Metpy documentation](https://unidata.github.io/MetPy/latest/tutorials/unit_tutorial.html).\n"
   ]
  },
  {
   "cell_type": "code",
   "execution_count": null,
   "metadata": {
    "jupyter": {
     "outputs_hidden": false
    }
   },
   "outputs": [],
   "source": [
    "pres = sounding_data['pressure'].values * units.hPa\n",
    "temp = sounding_data['temperature'].values * units.degC\n",
    "dewpoint = sounding_data['dewpoint'].values * units.degC\n",
    "wind_speed = sounding_data['speed'].values * units.knots\n",
    "wind_dir = sounding_data['direction'].values * units.degrees\n",
    "u, v = mpcalc.wind_components(wind_speed, wind_dir)"
   ]
  },
  {
   "cell_type": "code",
   "execution_count": null,
   "metadata": {
    "jupyter": {
     "outputs_hidden": false
    }
   },
   "outputs": [],
   "source": [
    "# Create figure and grid for plots\n",
    "fig = plt.figure(figsize=(9, 9))\n",
    "skew = SkewT(fig, rotation=45)\n",
    "\n",
    "# Plot temperature and dewpoint lines\n",
    "skew.plot(pres, temp, 'red')\n",
    "skew.plot(pres, dewpoint, 'green')\n",
    "\n",
    "# Plot wind barbs\n",
    "my_interval = np.arange(100, 1000, 50) * units('hPa')\n",
    "ix = mpcalc.resample_nn_1d(pres, my_interval)\n",
    "skew.plot_barbs(pres[ix], u[ix], v[ix])\n",
    "\n",
    "# Improve labels and set axis limits\n",
    "skew.ax.set_xlabel('Temperature (\\N{DEGREE CELSIUS})')\n",
    "skew.ax.set_ylabel('Pressure (hPa)')\n",
    "skew.ax.set_ylim(1000, 100)\n",
    "skew.ax.set_xlim(-30, 40)\n",
    "\n",
    "# Add the relevant special lines\n",
    "skew.plot_dry_adiabats(t0=np.arange(233, 533, 10) * units.K, alpha=0.25, color='orangered')\n",
    "skew.plot_moist_adiabats(t0=np.arange(233, 400, 5) * units.K, alpha=0.25, color='tab:green')\n",
    "skew.plot_mixing_lines(pressure=np.arange(1000, 99, -25) * units.hPa, linestyle='dotted', color='tab:blue')\n",
    "\n",
    "# Create a hodograph\n",
    "ax_hod = inset_axes(skew.ax, '35%', '35%', loc=1)\n",
    "h = Hodograph(ax_hod, component_range=80)\n",
    "h.add_grid(increment=20)\n",
    "h.plot_colormapped(u, v, pres)\n",
    "\n",
    "# Add the MetPy logo!\n",
    "fig = plt.gcf()\n",
    "add_metpy_logo(fig, 110, 650, size='small');\n",
    "\n",
    "# Add title\n",
    "skew.ax.set_title('Advanced Sounding with Hodograph Inset');"
   ]
  },
  {
   "cell_type": "code",
   "execution_count": null,
   "metadata": {},
   "outputs": [],
   "source": []
  }
 ],
 "metadata": {
  "kernelspec": {
   "display_name": "Python 3 (ipykernel)",
   "language": "python",
   "name": "python3"
  },
  "language_info": {
   "codemirror_mode": {
    "name": "ipython",
    "version": 3
   },
   "file_extension": ".py",
   "mimetype": "text/x-python",
   "name": "python",
   "nbconvert_exporter": "python",
   "pygments_lexer": "ipython3",
   "version": "3.9.16"
  }
 },
 "nbformat": 4,
 "nbformat_minor": 4
}
