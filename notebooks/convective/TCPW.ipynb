{
 "cells": [
  {
   "cell_type": "markdown",
   "id": "a41da51b",
   "metadata": {
    "cell_marker": "\"\"\"",
    "lines_to_next_cell": 0
   },
   "source": [
    "Total Column Precipitable Water (TCPW)\n",
    "======================\n",
    "Calculate TCPW on a grid of netCDF data using MetPy."
   ]
  },
  {
   "cell_type": "code",
   "execution_count": null,
   "id": "639a6e1d-75e6-4e82-a268-f86b56b50d7c",
   "metadata": {},
   "outputs": [],
   "source": [
    "import metpy.calc as mpcalc\n",
    "import xarray as xr\n",
    "import numpy as np\n",
    "from metpy.calc import cape_cin, surface_based_cape_cin, dewpoint_from_specific_humidity, parcel_profile,relative_humidity_from_specific_humidity,most_unstable_cape_cin, precipitable_water \n",
    "from metpy.units import units\n",
    "import matplotlib.pyplot as plt\n",
    "import cartopy.crs as ccrs\n",
    "import cartopy.feature as cfeature"
   ]
  },
  {
   "cell_type": "code",
   "execution_count": null,
   "id": "36cbeee7-8460-4ab8-88f6-fe977ac5a929",
   "metadata": {},
   "outputs": [],
   "source": [
    "## opening NetCDF file using xarray \n",
    "\n",
    "ds = xr.open_dataset(\"NETCDF_FILE.nc\", decode_times=True)"
   ]
  },
  {
   "cell_type": "code",
   "execution_count": null,
   "id": "4ff87fa8-b696-4276-89e9-40e0de7c92d6",
   "metadata": {},
   "outputs": [],
   "source": [
    "ds"
   ]
  },
  {
   "cell_type": "code",
   "execution_count": null,
   "id": "b866a88e-1036-42b9-90c0-e1ee27e2d8b7",
   "metadata": {},
   "outputs": [],
   "source": [
    "#### making a function to slice the xarray dataset according to our need.\n",
    "def slicer (data,lat1, lat2, lon1, lon2, time1,time2) :\n",
    "    sliced_data = data.sel(lat =slice(lat1, lat2), lon = slice(lon1, lon2),time = slice(time1, time2))\n",
    "    return sliced_data"
   ]
  },
  {
   "cell_type": "code",
   "execution_count": null,
   "id": "e85729c9-65b8-4264-8b8f-50bf36068911",
   "metadata": {},
   "outputs": [],
   "source": [
    "#slicing the data for CONUS only\n",
    "\n",
    "new_data = slicer(ds,23.5,50.5,-125.5,-66.5, ds.time[0], ds.time[0])"
   ]
  },
  {
   "cell_type": "code",
   "execution_count": null,
   "id": "2e49ab2c-7ae1-4aed-9338-f29f8d34f783",
   "metadata": {},
   "outputs": [],
   "source": [
    "new_data"
   ]
  },
  {
   "cell_type": "code",
   "execution_count": null,
   "id": "dbaa4f14-5be0-41f5-b594-4746135a451c",
   "metadata": {},
   "outputs": [],
   "source": [
    "##extracting temperature, pressure  and specific humidity from the dataset\n",
    "p =new_data.lev*units('hPa')\n",
    "T = new_data.T\n",
    "sh =  new_data.QV*units('dimensionless')\n",
    "\n",
    "\n",
    "TCPW = np.zeros((1, 28, 60),dtype=float)\n",
    "\n",
    "###calculating TCPW in multidimension\n",
    "\n",
    "for h in range (len(new_data.time)):\n",
    "    for i in range (len(new_data.lat)):\n",
    "        for j in range(len(new_data.lon)):\n",
    "\n",
    "\n",
    "            TC = (T[h,:,i,j]-(273.15))*units('degC')\n",
    "            Td = dewpoint_from_specific_humidity(np.array(p)*units('hPa'),TC, sh[h,:,i,j])\n",
    "\n",
    "            TPW_S = precipitable_water(np.array(p)*units('hPa'), np.array(Td)*units('degC'))\n",
    "            TCPW[h,i,j] = TPW_S.magnitude\n",
    "                \n",
    "         \n",
    "\n",
    "\n"
   ]
  },
  {
   "cell_type": "code",
   "execution_count": null,
   "id": "e37662a0-9d9a-4a1e-92c1-b212757da2f4",
   "metadata": {},
   "outputs": [],
   "source": [
    "TCPW"
   ]
  },
  {
   "cell_type": "code",
   "execution_count": null,
   "id": "fedb10f7-ff76-4c4c-bbc3-7b629fa0b0d6",
   "metadata": {},
   "outputs": [],
   "source": [
    "dataproj = ccrs. PlateCarree ()\n",
    "# # Plot projection\n",
    "# # The look you want for the view.\n",
    "plotproj = ccrs. PlateCarree ()\n",
    "fig=plt.figure(1, figsize=(15.,12.))\n",
    "\n",
    "ax=plt.subplot(111,projection=plotproj)\n",
    "\n",
    "ax.add_feature(cfeature.COASTLINE, linewidth=0.5)\n",
    "ax.add_feature(cfeature.STATES, linewidth=0.5)\n",
    "plt.title(\"Total Column Precipitable Water Calculated Using Metpy (mm)\",size = 30)\n",
    "plt.contourf (new_data.lon, new_data.lat, TCPW[0,:,:],levels =np.arange(0,70,5),cmap = \"PuBuGn\", transform=dataproj,extend = \"max\")\n",
    "plt.colorbar (orientation = \"horizontal\", pad=0.01).ax.tick_params(labelsize=20)\n",
    "plt. show ()"
   ]
  },
  {
   "cell_type": "code",
   "execution_count": null,
   "id": "4fa9c2e1-d66e-4056-a804-9af9997faceb",
   "metadata": {},
   "outputs": [],
   "source": []
  }
 ],
 "metadata": {
  "kernelspec": {
   "display_name": "Python 3 (ipykernel)",
   "language": "python",
   "name": "python3"
  },
  "language_info": {
   "codemirror_mode": {
    "name": "ipython",
    "version": 3
   },
   "file_extension": ".py",
   "mimetype": "text/x-python",
   "name": "python",
   "nbconvert_exporter": "python",
   "pygments_lexer": "ipython3",
   "version": "3.11.9"
  }
 },
 "nbformat": 4,
 "nbformat_minor": 5
}
