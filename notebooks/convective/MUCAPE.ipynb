{
 "cells": [
  {
   "cell_type": "markdown",
   "id": "7c25bc97",
   "metadata": {
    "cell_marker": "\"\"\"",
    "lines_to_next_cell": 0
   },
   "source": [
    "Most-Unstable Convective Available Potential Energy (MUCAPE)\n",
    "======================\n",
    "Calculate MUCAPE on a grid of netCDF data using MetPy."
   ]
  },
  {
   "cell_type": "code",
   "execution_count": null,
   "id": "3e0347aa-dc94-4383-87f4-25cede999180",
   "metadata": {},
   "outputs": [],
   "source": [
    "## importing all the packages we might need later for our calculation\n",
    "import metpy.calc as mpcalc\n",
    "import xarray as xr\n",
    "import numpy as np\n",
    "from metpy.calc import cape_cin, surface_based_cape_cin, dewpoint_from_specific_humidity, parcel_profile,relative_humidity_from_specific_humidity,most_unstable_cape_cin, precipitable_water \n",
    "from metpy.units import units\n",
    "import matplotlib.pyplot as plt\n",
    "import cartopy.crs as ccrs\n",
    "import cartopy.feature as cfeature"
   ]
  },
  {
   "cell_type": "code",
   "execution_count": null,
   "id": "5ca9c7db-b26c-4fa0-985a-b72780cb31db",
   "metadata": {},
   "outputs": [],
   "source": []
  },
  {
   "cell_type": "code",
   "execution_count": null,
   "id": "54f03a63-d5e5-4115-8f8e-ee005918663f",
   "metadata": {},
   "outputs": [],
   "source": [
    "## opening NetCDF file using xarray \n",
    "\n",
    "ds = xr.open_dataset(\"NETCDF_FILE.nc\", decode_times=True)"
   ]
  },
  {
   "cell_type": "code",
   "execution_count": null,
   "id": "2f996028-ab1f-44f4-a169-81f9e2fc40a1",
   "metadata": {},
   "outputs": [],
   "source": [
    "ds"
   ]
  },
  {
   "cell_type": "code",
   "execution_count": null,
   "id": "bb769f43-fd81-4b56-b8b0-9ecfc0823c33",
   "metadata": {},
   "outputs": [],
   "source": [
    "#### making a function to slice the xarray dataset according to our need.\n",
    "def slicer (data,lat1, lat2, lon1, lon2, time1,time2) :\n",
    "    sliced_data = data.sel(lat =slice(lat1, lat2), lon = slice(lon1, lon2),time = slice(time1, time2))\n",
    "    return sliced_data"
   ]
  },
  {
   "cell_type": "code",
   "execution_count": null,
   "id": "46dcd279-348d-4932-be71-1d5c9a44fad1",
   "metadata": {},
   "outputs": [],
   "source": [
    "#slicing the data for CONUS only\n",
    "\n",
    "new_data = slicer(ds,23.5,50.5,-125.5,-66.5, ds.time[0], ds.time[0])"
   ]
  },
  {
   "cell_type": "code",
   "execution_count": null,
   "id": "4976f026-c468-44db-9011-3bcc238836d7",
   "metadata": {},
   "outputs": [],
   "source": [
    "new_data"
   ]
  },
  {
   "cell_type": "code",
   "execution_count": null,
   "id": "fc413f58-8863-4160-bb10-bf62b18da6b4",
   "metadata": {},
   "outputs": [],
   "source": [
    "##extracting temperature, pressure  and specific humidity from the dataset\n",
    "p =new_data.lev*units('hPa')\n",
    "T = new_data.T\n",
    "sh =  new_data.QV*units('dimensionless')\n",
    "\n",
    "\n",
    "\n",
    "\n",
    "CAPE = np.zeros((1, 28, 60),dtype=float)\n",
    "\n",
    "\n",
    "###calculating CAPE in multidimension\n",
    "\n",
    "for h in range (len(new_data.time)):\n",
    "    for i in range (len(new_data.lat)):\n",
    "        for j in range(len(new_data.lon)):\n",
    "\n",
    "\n",
    "            TC = (T[h,:,i,j]-(273.15))*units('degC')\n",
    "            Td = dewpoint_from_specific_humidity(np.array(p)*units('hPa'),TC, sh[h,:,i,j])\n",
    "#      \n",
    "            try: \n",
    "                MUCAPE = most_unstable_cape_cin(np.array(p)*units('hPa'),np.array(TC)*units('degC'), np.array(Td)*units('degC'))\n",
    "            except:\n",
    "                pass\n",
    "            CAPE[h,i,j] = MUCAPE[0].magnitude\n",
    "          \n",
    "        \n",
    "            \n",
    "   \n"
   ]
  },
  {
   "cell_type": "code",
   "execution_count": null,
   "id": "6d7a48a5-ac1d-4070-8583-2b00bd1fd393",
   "metadata": {},
   "outputs": [],
   "source": [
    "dataproj = ccrs. PlateCarree ()\n",
    "# # Plot projection\n",
    "# # The look you want for the view.\n",
    "plotproj = ccrs. PlateCarree ()\n",
    "fig=plt.figure(1, figsize=(15.,12.))\n",
    "\n",
    "ax=plt.subplot(111,projection=plotproj)\n",
    "\n",
    "ax.add_feature(cfeature.COASTLINE, linewidth=0.5)\n",
    "ax.add_feature(cfeature.STATES, linewidth=0.5)\n",
    "plt.title(\"MUCAPE Calculated Using Metpy (J/Kg)\",size = 30)\n",
    "plt.contourf (new_data.lon, new_data. lat, CAPE[0,:,:],levels =np.arange(0,2400,100),cmap = \"PuBuGn\", transform=dataproj,extend = \"max\")\n",
    "plt.colorbar (orientation = \"horizontal\", pad=0.01).ax.tick_params(labelsize=20)\n",
    "plt. show ()"
   ]
  },
  {
   "cell_type": "code",
   "execution_count": null,
   "id": "5866c70c-5c4f-434e-94f2-9d690fb10186",
   "metadata": {},
   "outputs": [],
   "source": []
  },
  {
   "cell_type": "code",
   "execution_count": null,
   "id": "ab54ed07-7368-49ab-934f-f31d61db9a24",
   "metadata": {},
   "outputs": [],
   "source": []
  },
  {
   "cell_type": "code",
   "execution_count": null,
   "id": "a3877aff-e16f-4fbf-8254-1d7263168c7a",
   "metadata": {},
   "outputs": [],
   "source": []
  },
  {
   "cell_type": "code",
   "execution_count": null,
   "id": "dded76a2-14b5-4985-8a10-c00e87e40b35",
   "metadata": {},
   "outputs": [],
   "source": []
  }
 ],
 "metadata": {
  "kernelspec": {
   "display_name": "Python 3 (ipykernel)",
   "language": "python",
   "name": "python3"
  },
  "language_info": {
   "codemirror_mode": {
    "name": "ipython",
    "version": 3
   },
   "file_extension": ".py",
   "mimetype": "text/x-python",
   "name": "python",
   "nbconvert_exporter": "python",
   "pygments_lexer": "ipython3",
   "version": "3.11.9"
  }
 },
 "nbformat": 4,
 "nbformat_minor": 5
}
